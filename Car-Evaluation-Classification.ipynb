{
 "cells": [
  {
   "cell_type": "code",
   "execution_count": 14,
   "id": "0d86a257",
   "metadata": {},
   "outputs": [],
   "source": [
    "# Import all required libraries\n",
    "\n",
    "%matplotlib inline\n",
    "from sklearn.datasets import load_iris\n",
    "from sklearn import tree\n",
    "from sklearn.model_selection import cross_val_score, train_test_split, StratifiedKFold\n",
    "import matplotlib.pyplot as plt\n",
    "import numpy as np\n",
    "import pandas as pd\n",
    "from sklearn.model_selection import GridSearchCV\n",
    "from sklearn.metrics import accuracy_score, recall_score, f1_score, confusion_matrix, classification_report, cohen_kappa_score, make_scorer\n",
    "from sklearn import metrics\n",
    "from sklearn.tree import DecisionTreeClassifier\n",
    "from sklearn.neighbors import KNeighborsClassifier, DistanceMetric\n",
    "import random\n",
    "from sklearn.datasets import load_digits\n",
    "from sklearn import linear_model\n",
    "from sklearn.linear_model import LogisticRegression\n",
    "from sklearn.preprocessing import StandardScaler\n",
    "from sklearn.svm import SVC\n",
    "from sklearn.model_selection import GridSearchCV, KFold\n",
    "import warnings\n",
    "warnings.filterwarnings(\"ignore\")\n",
    "import scikitplot as skplt\n",
    "from sklearn.preprocessing import StandardScaler, MinMaxScaler, OneHotEncoder\n",
    "from sklearn.pipeline import make_pipeline\n",
    "from sklearn.naive_bayes import MultinomialNB"
   ]
  },
  {
   "cell_type": "code",
   "execution_count": 15,
   "id": "61274fed",
   "metadata": {},
   "outputs": [
    {
     "data": {
      "text/html": [
       "<div>\n",
       "<style scoped>\n",
       "    .dataframe tbody tr th:only-of-type {\n",
       "        vertical-align: middle;\n",
       "    }\n",
       "\n",
       "    .dataframe tbody tr th {\n",
       "        vertical-align: top;\n",
       "    }\n",
       "\n",
       "    .dataframe thead th {\n",
       "        text-align: right;\n",
       "    }\n",
       "</style>\n",
       "<table border=\"1\" class=\"dataframe\">\n",
       "  <thead>\n",
       "    <tr style=\"text-align: right;\">\n",
       "      <th></th>\n",
       "      <th>Buying</th>\n",
       "      <th>Maint</th>\n",
       "      <th>Doors</th>\n",
       "      <th>Persons</th>\n",
       "      <th>Lug_Boot</th>\n",
       "      <th>Safety</th>\n",
       "      <th>Evaluation</th>\n",
       "    </tr>\n",
       "  </thead>\n",
       "  <tbody>\n",
       "    <tr>\n",
       "      <th>0</th>\n",
       "      <td>vhigh</td>\n",
       "      <td>vhigh</td>\n",
       "      <td>2</td>\n",
       "      <td>2</td>\n",
       "      <td>small</td>\n",
       "      <td>low</td>\n",
       "      <td>unacc</td>\n",
       "    </tr>\n",
       "    <tr>\n",
       "      <th>1</th>\n",
       "      <td>vhigh</td>\n",
       "      <td>vhigh</td>\n",
       "      <td>2</td>\n",
       "      <td>2</td>\n",
       "      <td>small</td>\n",
       "      <td>med</td>\n",
       "      <td>unacc</td>\n",
       "    </tr>\n",
       "    <tr>\n",
       "      <th>2</th>\n",
       "      <td>vhigh</td>\n",
       "      <td>vhigh</td>\n",
       "      <td>2</td>\n",
       "      <td>2</td>\n",
       "      <td>small</td>\n",
       "      <td>high</td>\n",
       "      <td>unacc</td>\n",
       "    </tr>\n",
       "    <tr>\n",
       "      <th>3</th>\n",
       "      <td>vhigh</td>\n",
       "      <td>vhigh</td>\n",
       "      <td>2</td>\n",
       "      <td>2</td>\n",
       "      <td>med</td>\n",
       "      <td>low</td>\n",
       "      <td>unacc</td>\n",
       "    </tr>\n",
       "    <tr>\n",
       "      <th>4</th>\n",
       "      <td>vhigh</td>\n",
       "      <td>vhigh</td>\n",
       "      <td>2</td>\n",
       "      <td>2</td>\n",
       "      <td>med</td>\n",
       "      <td>med</td>\n",
       "      <td>unacc</td>\n",
       "    </tr>\n",
       "  </tbody>\n",
       "</table>\n",
       "</div>"
      ],
      "text/plain": [
       "  Buying  Maint Doors Persons Lug_Boot Safety Evaluation\n",
       "0  vhigh  vhigh     2       2    small    low      unacc\n",
       "1  vhigh  vhigh     2       2    small    med      unacc\n",
       "2  vhigh  vhigh     2       2    small   high      unacc\n",
       "3  vhigh  vhigh     2       2      med    low      unacc\n",
       "4  vhigh  vhigh     2       2      med    med      unacc"
      ]
     },
     "execution_count": 15,
     "metadata": {},
     "output_type": "execute_result"
    }
   ],
   "source": [
    "# Import data set\n",
    "col = ['Buying','Maint','Doors','Persons','Lug_Boot','Safety','Evaluation']\n",
    "car = pd.read_csv(\"/Users/riyakhurana09/Desktop/Riya Khurana/Classes/Spring 2022/Predictive 6420/HW2/Q5/car.data\", names = col)\n",
    "car.head()"
   ]
  },
  {
   "cell_type": "code",
   "execution_count": 16,
   "id": "fc7dabc7",
   "metadata": {},
   "outputs": [],
   "source": [
    "# Defining Independent and Target variable\n",
    "X = car.iloc[:,0:6]\n",
    "y = np.where(car['Evaluation'] == 'unacc', 0, np.where(car['Evaluation'] == 'acc', 1, np.where(car['Evaluation'] == 'good', 2,3)))"
   ]
  },
  {
   "cell_type": "markdown",
   "id": "c614bf61",
   "metadata": {},
   "source": [
    "### One-hot Encoding"
   ]
  },
  {
   "cell_type": "code",
   "execution_count": 17,
   "id": "e970d82f",
   "metadata": {},
   "outputs": [
    {
     "data": {
      "text/plain": [
       "array([[0., 0., 0., ..., 0., 1., 0.],\n",
       "       [0., 0., 0., ..., 0., 0., 1.],\n",
       "       [0., 0., 0., ..., 1., 0., 0.],\n",
       "       ...,\n",
       "       [0., 1., 0., ..., 0., 1., 0.],\n",
       "       [0., 1., 0., ..., 0., 0., 1.],\n",
       "       [0., 1., 0., ..., 1., 0., 0.]])"
      ]
     },
     "execution_count": 17,
     "metadata": {},
     "output_type": "execute_result"
    }
   ],
   "source": [
    "encoder = OneHotEncoder(handle_unknown = 'ignore', sparse = False)\n",
    "X_one_hot = encoder.fit_transform(X)\n",
    "X_one_hot"
   ]
  },
  {
   "cell_type": "markdown",
   "id": "4e89605f",
   "metadata": {},
   "source": [
    "### Train-Test Split"
   ]
  },
  {
   "cell_type": "code",
   "execution_count": 18,
   "id": "e02af38a",
   "metadata": {},
   "outputs": [],
   "source": [
    "# Split of 0.33 as test data\n",
    "X_train, X_test, y_train, y_test = train_test_split(X_one_hot, y, test_size=0.33)"
   ]
  },
  {
   "cell_type": "markdown",
   "id": "85d27e22",
   "metadata": {},
   "source": [
    "### Establishing Hyperparameters"
   ]
  },
  {
   "cell_type": "code",
   "execution_count": 19,
   "id": "bc5350c3",
   "metadata": {},
   "outputs": [],
   "source": [
    "# Decision Tree\n",
    "dt_criterion = ['gini','entropy']\n",
    "dt_splitter = ['best', 'random']\n",
    "dt_max_depth = range(1,10)\n",
    "dt_min_samples_leaf = range(1,10)\n",
    "\n",
    "# KNN\n",
    "knn_range = list(range(1,31))\n",
    "knn_weights = [\"uniform\", \"distance\"]\n",
    "\n",
    "# Logistic Regression\n",
    "lr_solver = ['liblinear','saga', 'newton-cg','lbfgs']\n",
    "lr_penalty = ['l1', 'l2']\n",
    "lr_c_values = [ 10, 1, 0.1, 0.01,0.001]\n",
    "\n",
    "# SVM\n",
    "svm_kernel = ['rbf','linear']\n",
    "svm_c_values = [1, 10, 100, 1000]\n",
    "svm_gamma = [1e-3, 1e-4]\n",
    "\n",
    "# Naive Bayes\n",
    "nb_alpha = np.arange(-1,1,0.3)\n",
    "nb_fit_prior = [False, True]\n",
    "\n",
    "weight = ['balanced']\n",
    "\n",
    "# Parameter Grid\n",
    "dt_grid = dict(criterion = dt_criterion , splitter = dt_splitter, max_depth = dt_max_depth, \\\n",
    "               min_samples_leaf = dt_min_samples_leaf, class_weight = weight)\n",
    "knn_grid = dict(n_neighbors = knn_range, weights = knn_weights)\n",
    "lr_grid = dict(penalty = lr_penalty, solver = lr_solver, C = lr_c_values, class_weight = weight)\n",
    "svm_grid = dict(kernel = svm_kernel, gamma = svm_gamma, C = svm_c_values, class_weight = weight)\n",
    "nb_grid = dict(alpha = nb_alpha, fit_prior = nb_fit_prior)\n"
   ]
  },
  {
   "cell_type": "code",
   "execution_count": 20,
   "id": "e62a0712",
   "metadata": {},
   "outputs": [],
   "source": [
    "# Cohen's Kappa Score\n",
    "score = make_scorer(cohen_kappa_score)\n",
    "\n",
    "# Classifier\n",
    "dt = DecisionTreeClassifier()\n",
    "knn = KNeighborsClassifier(metric='hamming')\n",
    "lr = LogisticRegression(max_iter = 10000)\n",
    "svm = SVC()\n",
    "nb = MultinomialNB()"
   ]
  },
  {
   "cell_type": "markdown",
   "id": "4aec5875",
   "metadata": {},
   "source": [
    "### Grid Search"
   ]
  },
  {
   "cell_type": "code",
   "execution_count": 21,
   "id": "442f7aef",
   "metadata": {},
   "outputs": [],
   "source": [
    "np.random.seed(11)\n",
    "\n",
    "i = 1\n",
    "inner_cv = KFold(n_splits=4, shuffle=True, random_state=i)\n",
    "outer_cv = KFold(n_splits=4, shuffle=True, random_state=i)\n",
    "\n",
    "dt_clf = GridSearchCV(estimator = dt, scoring = score, param_grid = dt_grid, cv = inner_cv)\n",
    "knn_clf = GridSearchCV(estimator = knn, scoring = score, param_grid = knn_grid, cv = inner_cv)\n",
    "lr_clf = GridSearchCV(estimator = lr, scoring = score, param_grid = lr_grid, cv = inner_cv)\n",
    "svm_clf = GridSearchCV(estimator = svm, scoring = score, param_grid = svm_grid, cv = inner_cv)\n",
    "nb_clf = GridSearchCV(estimator = nb, scoring = score, param_grid = nb_grid, cv = inner_cv)\n",
    "\n",
    "dt_score = cross_val_score(dt_clf, X = X_train, y = y_train, cv=outer_cv)\n",
    "dt_score_mean = dt_score.mean()\n",
    "knn_score = cross_val_score(knn_clf, X = X_train, y = y_train, cv=outer_cv)\n",
    "knn_score_mean = knn_score.mean()\n",
    "lr_score = cross_val_score(lr_clf, X = X_train, y = y_train, cv=outer_cv)\n",
    "lr_score_mean = lr_score.mean()\n",
    "svm_score = cross_val_score(svm_clf, X = X_train, y = y_train, cv=outer_cv)\n",
    "svm_score_mean = svm_score.mean()\n",
    "nb_score = cross_val_score(nb_clf, X = X_train, y = y_train, cv=outer_cv)\n",
    "nb_score_mean = nb_score.mean()"
   ]
  },
  {
   "cell_type": "markdown",
   "id": "cec2b98e",
   "metadata": {},
   "source": [
    "### Model Results"
   ]
  },
  {
   "cell_type": "code",
   "execution_count": 25,
   "id": "3a8ad296",
   "metadata": {},
   "outputs": [
    {
     "name": "stdout",
     "output_type": "stream",
     "text": [
      "Kappa Score \n",
      "Decision Tree: 0.87 \n",
      "KNN: 0.757 \n",
      "Logistic Regression: 0.84 \n",
      "SVM: 0.838 \n",
      "Naive Bayes: 0.664\n"
     ]
    }
   ],
   "source": [
    "print('Kappa Score \\nDecision Tree:', round(dt_score_mean,3), '\\nKNN:', round(knn_score_mean,3), '\\nLogistic Regression:', \\\n",
    "      round(lr_score_mean,3), '\\nSVM:', round(svm_score_mean,3), '\\nNaive Bayes:', round(nb_score_mean,3))"
   ]
  },
  {
   "cell_type": "markdown",
   "id": "290a3fbd",
   "metadata": {},
   "source": [
    "### Best performing model - Decision Tree"
   ]
  },
  {
   "cell_type": "code",
   "execution_count": 23,
   "id": "13fe22f9",
   "metadata": {},
   "outputs": [
    {
     "name": "stdout",
     "output_type": "stream",
     "text": [
      "Best Estimator (Hyperparameters):\n",
      " DecisionTreeClassifier(class_weight='balanced', max_depth=9, splitter='random')\n"
     ]
    }
   ],
   "source": [
    "# Decision Tree is our best performing model\n",
    "dt_clf = GridSearchCV(estimator = dt, scoring = score, param_grid = dt_grid, cv = inner_cv)\n",
    "dt_clf.fit(X_train, y_train)\n",
    "print('Best Estimator (Hyperparameters):\\n', dt_clf.best_estimator_)"
   ]
  },
  {
   "cell_type": "markdown",
   "id": "73dca10a",
   "metadata": {},
   "source": [
    "### Classification Report"
   ]
  },
  {
   "cell_type": "code",
   "execution_count": 27,
   "id": "a1d0de4b",
   "metadata": {},
   "outputs": [
    {
     "name": "stdout",
     "output_type": "stream",
     "text": [
      "Confusion Matrix: \n",
      " [[395   9   0   0]\n",
      " [  1 113   1   4]\n",
      " [  2   0  26   0]\n",
      " [  0   0   0  20]]\n",
      "\n",
      "Overall Accuracy:\n",
      " 0.97\n",
      "\n",
      "Class 0: Unacceptable\n",
      "Class 1: Acceptable\n",
      "Class 2: Good\n",
      "Class 3: Vgood\n",
      "\n",
      "              precision    recall  f1-score   support\n",
      "\n",
      "     Class 0       0.99      0.98      0.99       404\n",
      "     Class 1       0.93      0.95      0.94       119\n",
      "     Class 2       0.96      0.93      0.95        28\n",
      "     Class 3       0.83      1.00      0.91        20\n",
      "\n",
      "    accuracy                           0.97       571\n",
      "   macro avg       0.93      0.96      0.94       571\n",
      "weighted avg       0.97      0.97      0.97       571\n",
      "\n"
     ]
    }
   ],
   "source": [
    "y_predict_test = dt_clf.predict(X_test)\n",
    "target_names = ['Class 0','Class 1','Class 2','Class 3']\n",
    "print('Confusion Matrix: \\n',confusion_matrix(y_test,y_predict_test))\n",
    "print('\\nOverall Accuracy:\\n',round(accuracy_score(y_test,y_predict_test),3))\n",
    "print('\\nClass 0: Unacceptable')\n",
    "print('Class 1: Acceptable')\n",
    "print('Class 2: Good')\n",
    "print('Class 3: Vgood\\n')\n",
    "print(classification_report(y_test, y_predict_test, target_names=target_names))"
   ]
  },
  {
   "cell_type": "markdown",
   "id": "ef30c5ee",
   "metadata": {},
   "source": [
    "#### The Kappa Score of the best performing model - Decision Tree is 0.87 and the overall accuracy is 97.0%. Each class has been predicted differently which gives us a different score for each of them. The highest recall is achieved by vgood class which could be attributable to the number of observations in the class which is very low (very less support)."
   ]
  },
  {
   "cell_type": "code",
   "execution_count": null,
   "id": "84f587e2",
   "metadata": {},
   "outputs": [],
   "source": []
  }
 ],
 "metadata": {
  "kernelspec": {
   "display_name": "Python 3 (ipykernel)",
   "language": "python",
   "name": "python3"
  },
  "language_info": {
   "codemirror_mode": {
    "name": "ipython",
    "version": 3
   },
   "file_extension": ".py",
   "mimetype": "text/x-python",
   "name": "python",
   "nbconvert_exporter": "python",
   "pygments_lexer": "ipython3",
   "version": "3.8.12"
  }
 },
 "nbformat": 4,
 "nbformat_minor": 5
}
